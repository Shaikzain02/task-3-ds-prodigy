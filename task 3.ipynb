{
 "cells": [
  {
   "cell_type": "code",
   "execution_count": null,
   "id": "0b421189-b025-450f-a977-4b6fd2e1eec1",
   "metadata": {
    "tags": []
   },
   "outputs": [],
   "source": [
    "import pandas as pd\n",
    "import seaborn as sns\n",
    "import matplotlib.pyplot as plt\n",
    "%matplotlib inline\n",
    "\n",
    "from sklearn.preprocessing import StandardScaler, LabelEncoder\n",
    "from sklearn.tree import DecisionTreeClassifier\n",
    "from sklearn.model_selection import train_test_split, cross_val_score\n",
    "from sklearn.model_selection import GridSearchCV\n",
    "from sklearn.metrics import classification_report, accuracy_score, confusion_matrix, ConfusionMatrixDisplay"
   ]
  },
  {
   "cell_type": "code",
   "execution_count": null,
   "id": "6cfb0a1e-5811-4f0a-a743-3887c703ea90",
   "metadata": {
    "tags": []
   },
   "outputs": [],
   "source": [
    "bank = pd.read_csv(\"bank.csv\",sep=';')"
   ]
  },
  {
   "cell_type": "code",
   "execution_count": null,
   "id": "29caa37d-e2f8-4f13-a1ed-a34f4e937ce5",
   "metadata": {
    "tags": []
   },
   "outputs": [],
   "source": [
    "bank.head()"
   ]
  },
  {
   "cell_type": "code",
   "execution_count": null,
   "id": "b43907c9-5d67-47e9-88bc-86c29881f4d7",
   "metadata": {
    "tags": []
   },
   "outputs": [],
   "source": [
    "bank.shape"
   ]
  },
  {
   "cell_type": "code",
   "execution_count": null,
   "id": "ce719a6d-3a84-41bf-bdb0-771703bec88f",
   "metadata": {
    "tags": []
   },
   "outputs": [],
   "source": [
    "bank.info()"
   ]
  },
  {
   "cell_type": "code",
   "execution_count": null,
   "id": "3574268b-9e9d-4fd5-bdd4-7df9f359413e",
   "metadata": {
    "tags": []
   },
   "outputs": [],
   "source": [
    "bank.describe()"
   ]
  },
  {
   "cell_type": "code",
   "execution_count": null,
   "id": "161e2551-095b-4da1-b5bb-6c81117f24fc",
   "metadata": {
    "tags": []
   },
   "outputs": [],
   "source": [
    "bank.isnull().sum()"
   ]
  },
  {
   "cell_type": "code",
   "execution_count": null,
   "id": "b7b52d64-7659-4116-83b7-fb7110947dd3",
   "metadata": {
    "tags": []
   },
   "outputs": [],
   "source": [
    "bank.duplicated().sum()"
   ]
  },
  {
   "cell_type": "code",
   "execution_count": null,
   "id": "f6fdf498-0a80-4a14-984d-64c71eab4818",
   "metadata": {
    "tags": []
   },
   "outputs": [],
   "source": [
    "sns.histplot(x=\"age\", data=bank, kde=True, hue= \"y\")\n",
    "plt.title(\"Age Distribution and Deposits\\n\")\n",
    "plt.show()"
   ]
  },
  {
   "cell_type": "code",
   "execution_count": null,
   "id": "c6fd2d62-8d3e-4dbf-b583-24e6f80d8bfd",
   "metadata": {
    "tags": []
   },
   "outputs": [],
   "source": [
    "plt.figure(figsize=(15,4))\n",
    "sns.countplot(x=\"job\", data= bank, hue =\"y\")\n",
    "plt.title(\"Occupation Distribution and Deposits\\n\")\n",
    "plt.show()"
   ]
  },
  {
   "cell_type": "code",
   "execution_count": null,
   "id": "0e87f204-25f5-4145-a0a6-72d577cfa2d5",
   "metadata": {
    "tags": []
   },
   "outputs": [],
   "source": [
    "plt.figure(figsize=(7,3))\n",
    "sns.countplot(x=\"marital\", data= bank, hue =\"y\")\n",
    "plt.title(\"Marital Status and Deposits\\n\")\n",
    "plt.show()"
   ]
  },
  {
   "cell_type": "code",
   "execution_count": null,
   "id": "b6f23f39-f70f-469a-920a-bd6cb1e3f1f1",
   "metadata": {
    "tags": []
   },
   "outputs": [],
   "source": [
    "plt.figure(figsize=(12,4))\n",
    "sns.countplot(x=\"education\", data= bank, hue =\"y\")\n",
    "plt.title(\"Education Status and Deposits\\n\")\n",
    "plt.show()"
   ]
  },
  {
   "cell_type": "code",
   "execution_count": null,
   "id": "abde27d6-33b6-47e1-bb10-64b8f1cd416a",
   "metadata": {
    "tags": []
   },
   "outputs": [],
   "source": [
    "bank.default.value_counts()"
   ]
  },
  {
   "cell_type": "code",
   "execution_count": null,
   "id": "b6cc346b-73d7-4bf5-9af4-9b36af7b7e20",
   "metadata": {
    "tags": []
   },
   "outputs": [],
   "source": [
    "plt.figure(figsize=(6,3.5))\n",
    "sns.countplot(x=\"housing\", data= bank, hue =\"y\")\n",
    "plt.title(\"Housing Loan Distribution and Deposits\\n\")\n",
    "plt.show()"
   ]
  },
  {
   "cell_type": "code",
   "execution_count": null,
   "id": "f9cdb004-91c0-44b2-b324-517ae0957056",
   "metadata": {
    "tags": []
   },
   "outputs": [],
   "source": [
    "plt.figure(figsize=(6,3.5))\n",
    "sns.countplot(x=\"loan\", data= bank, hue =\"y\")\n",
    "plt.title(\"Personal Loan Distribution and Deposits\\n\")\n",
    "plt.show()"
   ]
  },
  {
   "cell_type": "code",
   "execution_count": null,
   "id": "3b8074fe-696b-44fc-a53e-f9cd74e99410",
   "metadata": {
    "tags": []
   },
   "outputs": [],
   "source": [
    "bank.y.value_counts()\n",
    "keys = bank.y.value_counts().index\n",
    "data = bank.y.value_counts().values\n",
    "plt.figure(figsize=(6,3.5))\n",
    "explode = [0,0.1]\n",
    "plt.pie(data,labels=keys,explode=explode, autopct='%.0f%%')\n",
    "plt.show()"
   ]
  },
  {
   "cell_type": "code",
   "execution_count": null,
   "id": "a1a4721d-ee79-4fbc-9ab7-f3e111a72bd1",
   "metadata": {
    "tags": []
   },
   "outputs": [],
   "source": [
    "cols = bank.select_dtypes(\"object\").columns\n",
    "cols"
   ]
  },
  {
   "cell_type": "code",
   "execution_count": null,
   "id": "e2eebe2e-c780-4605-b675-45784c2342f9",
   "metadata": {
    "tags": []
   },
   "outputs": [],
   "source": [
    "le = LabelEncoder()\n",
    "\n",
    "bank[cols] = bank[cols].apply(le.fit_transform)"
   ]
  },
  {
   "cell_type": "code",
   "execution_count": null,
   "id": "cd86d892-4ad0-47c1-82c5-b9b02c71e86b",
   "metadata": {
    "tags": []
   },
   "outputs": [],
   "source": [
    "bank.head(3)"
   ]
  },
  {
   "cell_type": "code",
   "execution_count": null,
   "id": "5323ddb9-1378-48dd-9e6f-f88bc7260438",
   "metadata": {
    "tags": []
   },
   "outputs": [],
   "source": [
    "plt.figure(figsize=(23,10))\n",
    "sns.heatmap(bank.corr(), cmap='bwr', annot=True)\n",
    "plt.show()"
   ]
  },
  {
   "cell_type": "code",
   "execution_count": null,
   "id": "1e3d6fcd-d273-4011-8994-46dabf48a520",
   "metadata": {
    "tags": []
   },
   "outputs": [],
   "source": [
    "X = bank.drop(\"y\", axis=1)\n",
    "y = bank.y"
   ]
  },
  {
   "cell_type": "code",
   "execution_count": null,
   "id": "6e1eb32e-f795-423d-9c7a-df23ded55822",
   "metadata": {
    "tags": []
   },
   "outputs": [],
   "source": [
    "scaler = StandardScaler()\n",
    "\n",
    "X_scaled = pd.DataFrame(scaler.fit_transform(X), columns = X.columns)"
   ]
  },
  {
   "cell_type": "code",
   "execution_count": null,
   "id": "1b34ff03-a8dc-4bb9-b863-2d0a45d64105",
   "metadata": {
    "tags": []
   },
   "outputs": [],
   "source": [
    "train_X, test_X, train_y, test_y = train_test_split(X_scaled, y, test_size=0.3)"
   ]
  },
  {
   "cell_type": "code",
   "execution_count": null,
   "id": "c9735b10-a99d-4350-932c-c2da90390ac8",
   "metadata": {
    "tags": []
   },
   "outputs": [],
   "source": [
    "decision_tree = DecisionTreeClassifier()\n",
    "decision_tree.fit(train_X, train_y)"
   ]
  },
  {
   "cell_type": "code",
   "execution_count": null,
   "id": "08ffa740-ccf6-4463-b89a-eb91f4233400",
   "metadata": {
    "tags": []
   },
   "outputs": [],
   "source": [
    "print('Train Score: {}'.format(decision_tree.score(train_X, train_y)))  \n",
    "print('Test Score: {}'.format(decision_tree.score(test_X, test_y)))    "
   ]
  },
  {
   "cell_type": "code",
   "execution_count": null,
   "id": "5915a579-f654-4bef-b782-2b6188ae7279",
   "metadata": {
    "tags": []
   },
   "outputs": [],
   "source": [
    "cross_val_score(decision_tree, train_X, train_y, cv=5).mean()"
   ]
  },
  {
   "cell_type": "code",
   "execution_count": null,
   "id": "81433571-633a-466a-8435-9d6975fc4279",
   "metadata": {
    "tags": []
   },
   "outputs": [],
   "source": [
    "ypred = decision_tree.predict(test_X)\n",
    "print(classification_report(test_y,ypred))"
   ]
  },
  {
   "cell_type": "code",
   "execution_count": null,
   "id": "bb7e113a-eb37-40ad-9fe0-f1a99711a753",
   "metadata": {
    "tags": []
   },
   "outputs": [],
   "source": [
    "param_grid = {\n",
    "    'max_depth': [3, 5, 7,10, None],\n",
    "    'criterion' : ['gini', 'entropy'],\n",
    "    'min_samples_leaf': [3, 5, 7, 9,10,20]\n",
    "    }"
   ]
  },
  {
   "cell_type": "code",
   "execution_count": null,
   "id": "16eec08f-9a31-42f6-b864-e32dfb8d245b",
   "metadata": {
    "tags": []
   },
   "outputs": [],
   "source": [
    "gscv = GridSearchCV(decision_tree, param_grid, cv=5, verbose=1)\n",
    "gscv.fit(train_X, train_y)"
   ]
  },
  {
   "cell_type": "code",
   "execution_count": null,
   "id": "933a6ecd-d334-4d4d-8bab-0fc2863a1a59",
   "metadata": {
    "tags": []
   },
   "outputs": [],
   "source": [
    "gscv.best_params_"
   ]
  },
  {
   "cell_type": "code",
   "execution_count": null,
   "id": "be6fb34f-38b4-48bc-af6b-d6a3e9abb72b",
   "metadata": {
    "tags": []
   },
   "outputs": [],
   "source": [
    "gscv.best_estimator_"
   ]
  },
  {
   "cell_type": "code",
   "execution_count": null,
   "id": "b91d739f-1dd0-43f5-928a-01884f039940",
   "metadata": {
    "tags": []
   },
   "outputs": [],
   "source": [
    "cross_val_score(gscv.best_estimator_, train_X, train_y, cv=5).mean() "
   ]
  },
  {
   "cell_type": "code",
   "execution_count": null,
   "id": "402296ad-cf7e-4ed5-940c-5e9549d3b3c8",
   "metadata": {
    "tags": []
   },
   "outputs": [],
   "source": [
    "clf = DecisionTreeClassifier(criterion= 'gini', max_depth= 5, min_samples_leaf = 3)\n",
    "clf.fit(train_X, train_y)"
   ]
  },
  {
   "cell_type": "code",
   "execution_count": null,
   "id": "4ea0efe9-1692-48d8-ab0c-100462e1be2f",
   "metadata": {
    "tags": []
   },
   "outputs": [],
   "source": [
    "print('Train Score: {}'.format(clf.score(train_X, train_y)))\n",
    "print('Test Score: {}'.format(clf.score(test_X, test_y)))"
   ]
  },
  {
   "cell_type": "code",
   "execution_count": null,
   "id": "a958249e-7ff0-4477-8f85-422fb4237121",
   "metadata": {
    "tags": []
   },
   "outputs": [],
   "source": [
    "pred_y = clf.predict(test_X)"
   ]
  },
  {
   "cell_type": "code",
   "execution_count": null,
   "id": "fb698202-c408-4be9-ab12-fbf69fda1cfe",
   "metadata": {
    "tags": []
   },
   "outputs": [],
   "source": [
    "cm = confusion_matrix(pred_y, test_y)\n",
    "ConfusionMatrixDisplay(cm, display_labels=clf.classes_).plot()\n",
    "plt.show()"
   ]
  },
  {
   "cell_type": "code",
   "execution_count": null,
   "id": "d4c8b11b-141e-4585-b0d7-e93c20f88a0e",
   "metadata": {
    "tags": []
   },
   "outputs": [],
   "source": [
    "print(classification_report(pred_y, test_y))\n"
   ]
  },
  {
   "cell_type": "code",
   "execution_count": null,
   "id": "9af2e314-36b8-4b3b-9176-3b1c5640e8ed",
   "metadata": {
    "tags": []
   },
   "outputs": [],
   "source": [
    "accuracy = accuracy_score(test_y,pred_y)\n",
    "print(\"Test Accuracy of Decision Tree Classifier : {}\".format(accuracy*100))"
   ]
  },
  {
   "cell_type": "code",
   "execution_count": null,
   "id": "fc3d80cf-7db7-4a21-8d4b-42634c8010b2",
   "metadata": {
    "tags": []
   },
   "outputs": [],
   "source": [
    "Cross_val = cross_val_score(clf, test_X,test_y, cv=5).mean()     \n",
    "print(\"Cross-Validation Accuracy Scores Decision Tree : \",Cross_val*100)"
   ]
  },
  {
   "cell_type": "code",
   "execution_count": null,
   "id": "8b770f33-9a20-4c32-b557-ca6e0f0c6c51",
   "metadata": {
    "tags": []
   },
   "outputs": [],
   "source": [
    "from sklearn import tree\n",
    "fig = plt.figure(figsize=(25,20))\n",
    "t= tree.plot_tree(clf,filled=True,feature_names=X.columns)"
   ]
  },
  {
   "cell_type": "code",
   "execution_count": null,
   "id": "d375632e-87e4-4f09-8d00-c6642d122aa4",
   "metadata": {},
   "outputs": [],
   "source": []
  }
 ],
 "metadata": {
  "kernelspec": {
   "display_name": "Python 3 (ipykernel)",
   "language": "python",
   "name": "python3"
  },
  "language_info": {
   "codemirror_mode": {
    "name": "ipython",
    "version": 3
   },
   "file_extension": ".py",
   "mimetype": "text/x-python",
   "name": "python",
   "nbconvert_exporter": "python",
   "pygments_lexer": "ipython3",
   "version": "3.7.0"
  }
 },
 "nbformat": 4,
 "nbformat_minor": 5
}
